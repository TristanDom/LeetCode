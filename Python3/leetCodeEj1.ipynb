{
 "cells": [
  {
   "cell_type": "markdown",
   "metadata": {},
   "source": [
    "Ejerciocio 1:\n",
    "==================\n",
    "\n",
    "Dada una matriz de enteros y un entero, devuelven índices de los dos números de tal manera que se suman al objetivo.numstarget\n",
    "Puede suponer que cada entrada tendría exactamente una solución, y no puede usar el mismo elemento dos veces.\n",
    "Puede devolver la respuesta en cualquier orden."
   ]
  },
  {
   "cell_type": "code",
   "execution_count": 6,
   "metadata": {},
   "outputs": [
    {
     "name": "stdout",
     "output_type": "stream",
     "text": [
      "La suma  2  y  7  forma el target\n",
      "[0, 1]\n"
     ]
    }
   ],
   "source": [
    "lista = [2, 7, 11, 15]              #Lista para ejemplificar los números en la matriz de elementos.\n",
    "meta = 9                            #Número méta que se busca obtener tras la suma de los elemntos de la matriz.\n",
    "result_list = []                    #Matríz resultado una vez sumado los elemlentos de la lista.\n",
    "\n",
    "for x in range(len(lista)-1):       #Primer for in range el cual recorre los elementos de la lista restándole un valor\n",
    "    for y in range(x+1, len(lista)):#Segundo for el cual suma un elemento a la variable x, haciendo que el conteo comience en 1 y no el cero como lo haría normalmente.\n",
    "        if((lista[x] + lista[y] == meta) and (len(result_list) <= 1)):#Evalúa si la suma de los valores en la lista es igual al valor esperado y la distancia es igual o menor a uno para que no agregue a la lista final elementos incecesrios.\n",
    "            print(\"La suma \", lista[x], \" y \", lista[y], \" forma el target\")#Imprime los valores que forman el valor esperado.\n",
    "            result_list.append(x)   #Agrega el primer valor tomado de la lista principal agregándolo a la lista final o resultado.\n",
    "            result_list.append(y)   #Agrega el segundo valor tomado de la lista principal agregándolo a la lista final o resultado.\n",
    "\n",
    "print(result_list)                  #Imprime la lista resultado en el cual se almacenó los valores que forman el valor esperado.\n"
   ]
  }
 ],
 "metadata": {
  "kernelspec": {
   "display_name": "Python 3.9.2 64-bit",
   "language": "python",
   "name": "python3"
  },
  "language_info": {
   "codemirror_mode": {
    "name": "ipython",
    "version": 3
   },
   "file_extension": ".py",
   "mimetype": "text/x-python",
   "name": "python",
   "nbconvert_exporter": "python",
   "pygments_lexer": "ipython3",
   "version": "3.9.2"
  },
  "orig_nbformat": 4,
  "vscode": {
   "interpreter": {
    "hash": "916dbcbb3f70747c44a77c7bcd40155683ae19c65e1c03b4aa3499c5328201f1"
   }
  }
 },
 "nbformat": 4,
 "nbformat_minor": 2
}
