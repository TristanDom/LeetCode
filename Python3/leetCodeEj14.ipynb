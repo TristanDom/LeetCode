{
 "cells": [
  {
   "cell_type": "markdown",
   "metadata": {},
   "source": [
    "Ejerciocio 14:\n",
    "==================\n",
    "\n",
    "Escriba una función para encontrar la cadena de prefijo común más larga entre una matriz de cadenas.\n",
    "\n",
    "Si no hay ningún prefijo común, devuelva una cadena vacía .\"\""
   ]
  },
  {
   "cell_type": "code",
   "execution_count": 13,
   "metadata": {},
   "outputs": [
    {
     "name": "stdout",
     "output_type": "stream",
     "text": [
      "h\n",
      "\n",
      "\n",
      "\n",
      "\n",
      "o\n",
      "\n",
      "\n",
      "\n",
      "\n",
      "\n",
      "j\n",
      "\n",
      "\n",
      "\n",
      "\n"
     ]
    }
   ],
   "source": [
    "cadenas = [\"hola\", \"hogar\", \"hoja\"]\n",
    "r = \"\"\n",
    "cont = 0\n",
    "\n",
    "\n",
    "\n",
    "for x in range(len(cadenas)):\n",
    "    if(cadenas[x][cont] in cadenas[x]):\n",
    "        print(cadenas[x][cont])\n",
    "    for y in range(len(cadenas[x])):\n",
    "        print(r)\n",
    "    cont += 1\n",
    "\n"
   ]
  }
 ],
 "metadata": {
  "kernelspec": {
   "display_name": "Python 3.9.2 64-bit",
   "language": "python",
   "name": "python3"
  },
  "language_info": {
   "codemirror_mode": {
    "name": "ipython",
    "version": 3
   },
   "file_extension": ".py",
   "mimetype": "text/x-python",
   "name": "python",
   "nbconvert_exporter": "python",
   "pygments_lexer": "ipython3",
   "version": "3.9.2"
  },
  "orig_nbformat": 4,
  "vscode": {
   "interpreter": {
    "hash": "916dbcbb3f70747c44a77c7bcd40155683ae19c65e1c03b4aa3499c5328201f1"
   }
  }
 },
 "nbformat": 4,
 "nbformat_minor": 2
}
