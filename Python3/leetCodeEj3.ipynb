{
 "cells": [
  {
   "cell_type": "markdown",
   "metadata": {},
   "source": [
    "Ejerciocio 3:\n",
    "==================\n",
    "\n",
    "Given a string s containing just the characters '(', ')', '{', '}', '[' and ']', determine if the input string is valid.\n",
    "\n",
    "Una cadena de entrada es válida si:\n",
    "\n",
    "Los soportes abiertos deben cerrarse con el mismo tipo de soportes.\n",
    "Los corchetes abiertos deben cerrarse en el orden correcto.\n",
    "Cada soporte cerrado tiene un soporte abierto correspondiente del mismo tipo."
   ]
  },
  {
   "cell_type": "code",
   "execution_count": 8,
   "metadata": {},
   "outputs": [
    {
     "name": "stdout",
     "output_type": "stream",
     "text": [
      ")\n",
      "]\n",
      ")\n",
      ")\n",
      "['(', '[', '(', '(']\n"
     ]
    }
   ],
   "source": [
    "str = \"()[]((\"\n",
    "\n",
    "dic = {'(': ')', '[': ']', '{': '}'}\n",
    "cont = 0\n",
    "list = []\n",
    "\n",
    "for x in str:\n",
    "    cont += 1\n",
    "    if(x in dic):\n",
    "        list.append(x)\n",
    "        print(dic[x])\n",
    "\n",
    "print(list)"
   ]
  }
 ],
 "metadata": {
  "kernelspec": {
   "display_name": "Python 3.9.2 64-bit",
   "language": "python",
   "name": "python3"
  },
  "language_info": {
   "codemirror_mode": {
    "name": "ipython",
    "version": 3
   },
   "file_extension": ".py",
   "mimetype": "text/x-python",
   "name": "python",
   "nbconvert_exporter": "python",
   "pygments_lexer": "ipython3",
   "version": "3.9.2"
  },
  "orig_nbformat": 4,
  "vscode": {
   "interpreter": {
    "hash": "916dbcbb3f70747c44a77c7bcd40155683ae19c65e1c03b4aa3499c5328201f1"
   }
  }
 },
 "nbformat": 4,
 "nbformat_minor": 2
}
