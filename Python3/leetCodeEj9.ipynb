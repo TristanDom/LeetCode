{
 "cells": [
  {
   "cell_type": "markdown",
   "metadata": {},
   "source": [
    "Ejerciocio 9:\n",
    "==================\n",
    "\n",
    "Given an integer x, return true if x is palindrome integer.\n",
    "\n",
    "An integer is a palindrome when it reads the same backward as forward.\n",
    "\n",
    "For example, 121 is a palindrome while 123 is not."
   ]
  },
  {
   "cell_type": "code",
   "execution_count": 2,
   "metadata": {},
   "outputs": [
    {
     "name": "stdout",
     "output_type": "stream",
     "text": [
      "No son iguales\n",
      "Son iguales\n",
      "No son iguales\n",
      "No es un número palíndromo\n"
     ]
    }
   ],
   "source": [
    "x = 123\n",
    "num1 = str(x)\n",
    "val = 1\n",
    "val1 = 0\n",
    "        \n",
    "for i in range(len(num1)):\n",
    "    if(num1[i] == num1[val * -1]):\n",
    "        print(\"Son iguales\")\n",
    "        pass\n",
    "    else:\n",
    "        print(\"No son iguales\")\n",
    "        val1 = val1 +1\n",
    "\n",
    "    val = val +1\n",
    "\n",
    "if(val1 != 0):\n",
    "    print(\"No es un número palíndromo\")\n",
    "    result = False\n",
    "else:\n",
    "    print(\"Es un número palíndromo\")\n",
    "    result = True\n",
    "#return(result)"
   ]
  }
 ],
 "metadata": {
  "kernelspec": {
   "display_name": "Python 3.9.2 64-bit",
   "language": "python",
   "name": "python3"
  },
  "language_info": {
   "codemirror_mode": {
    "name": "ipython",
    "version": 3
   },
   "file_extension": ".py",
   "mimetype": "text/x-python",
   "name": "python",
   "nbconvert_exporter": "python",
   "pygments_lexer": "ipython3",
   "version": "3.9.2"
  },
  "orig_nbformat": 4,
  "vscode": {
   "interpreter": {
    "hash": "916dbcbb3f70747c44a77c7bcd40155683ae19c65e1c03b4aa3499c5328201f1"
   }
  }
 },
 "nbformat": 4,
 "nbformat_minor": 2
}
